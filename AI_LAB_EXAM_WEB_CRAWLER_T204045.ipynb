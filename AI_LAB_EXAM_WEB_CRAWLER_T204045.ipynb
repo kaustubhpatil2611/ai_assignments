{
  "nbformat": 4,
  "nbformat_minor": 0,
  "metadata": {
    "colab": {
      "name": "AI_LAB_EXAM_WEB_CRAWLER_T204045.ipynb",
      "provenance": [],
      "collapsed_sections": [],
      "authorship_tag": "ABX9TyMB6w5V1PPqLFBDhw6KNPZ1",
      "include_colab_link": true
    },
    "kernelspec": {
      "name": "python3",
      "display_name": "Python 3"
    }
  },
  "cells": [
    {
      "cell_type": "markdown",
      "metadata": {
        "id": "view-in-github",
        "colab_type": "text"
      },
      "source": [
        "<a href=\"https://colab.research.google.com/github/kaustubhpatil2611/ai_assignments/blob/master/AI_LAB_EXAM_WEB_CRAWLER_T204045.ipynb\" target=\"_parent\"><img src=\"https://colab.research.google.com/assets/colab-badge.svg\" alt=\"Open In Colab\"/></a>"
      ]
    },
    {
      "cell_type": "markdown",
      "metadata": {
        "id": "0WOk9QYFbUPH"
      },
      "source": [
        "**AI PRACTICAL EXAM**\n",
        "\n",
        "*Kaustubh Patil*\n",
        "\n",
        "*SeatNo:T204045*\n",
        "\n",
        "*PRN:0120180264*\n",
        "\n",
        "*Roll No:059*\n",
        "\n",
        "Write a program to build index of Crawlers in Search Engines using Depth First Search, start from source page and follow all links from source and keep doing same. (Assume suitable data as applicable)"
      ]
    },
    {
      "cell_type": "code",
      "metadata": {
        "colab": {
          "base_uri": "https://localhost:8080/"
        },
        "id": "EMmukw2Kz8bV",
        "outputId": "9c840da2-479c-4454-b01b-e258c201f434"
      },
      "source": [
        "#import all the required libraries\n",
        "import nltk\n",
        "from nltk.corpus import stopwords\n",
        "nltk.download('stopwords')\n",
        "import urllib#library for openning urls\n",
        "import nltk\n",
        "from bs4 import BeautifulSoup#DOM parsing library\n",
        "import re\n",
        "sword = stopwords.words('english')"
      ],
      "execution_count": 6,
      "outputs": [
        {
          "output_type": "stream",
          "text": [
            "[nltk_data] Downloading package stopwords to /root/nltk_data...\n",
            "[nltk_data]   Package stopwords is already up-to-date!\n"
          ],
          "name": "stdout"
        }
      ]
    },
    {
      "cell_type": "code",
      "metadata": {
        "id": "67ZvrTPtWhA9"
      },
      "source": [
        "#class for maintaing url and their index values\n",
        "class searchIndex:\n",
        "  def __init__(self,url,indexValue):\n",
        "    self.url=url\n",
        "    self.indexValue=indexValue\n",
        "\n",
        "\n",
        "#function to get html content from target url\n",
        "def get_html(url):\n",
        "  try:\n",
        "    html_page=urllib.request.urlopen(url)#get url contents\n",
        "    soup=BeautifulSoup(html_page)#parse the contents\n",
        "    \n",
        "  except Exception as e:#if bad response return error\n",
        "    return 'error'\n",
        "\n",
        "  return soup\n",
        "\n",
        "#get tokens from searched query\n",
        "def get_search_tokens(query):\n",
        "  tokens= [t for t in query.split()]#split sentences to words\n",
        "  clean_tokens= []\n",
        "  for token in tokens:\n",
        "    if token.lower() not in sword:\n",
        "      clean_tokens.append(token.lower())\n",
        "  return clean_tokens\n",
        "\n",
        "#get high frequency key words\n",
        "def get_searches_tokens(url):\n",
        "  response = urllib.request.urlopen(url)\n",
        "  html = response.read()\n",
        "  soup = BeautifulSoup(html,\"html.parser\")#parse html content\n",
        "  text = soup.get_text(strip=True)#get only text\n",
        "  tokens = [t for t in text.split()]\n",
        "  sword = stopwords.words('english')\n",
        "  symbols=['{','}',';','|',':','=','using','given']\n",
        "  sword=sword+symbols\n",
        "  #get processed text\n",
        "  clean_tokens = []\n",
        "  for token in tokens:\n",
        "      if token.lower() not in sword:\n",
        "          clean_tokens.append(token.lower())\n",
        "\n",
        "  #calculate word frequencies\n",
        "  freq=nltk.FreqDist(clean_tokens)\n",
        "  final_tokens=[m for m,n in freq.items() if n>=15 and len(m)>3 ]#consider words with frequency higher than 14 and word length more than 3\n",
        "  return final_tokens\n",
        "\n",
        "#function to get count of matched keywords in the page\n",
        "def get_indexValue(url,searchKeys):\n",
        "  response=urllib.request.urlopen(url)\n",
        "  html=response.read()\n",
        "  soup=BeautifulSoup(html,\"html.parser\")\n",
        "  text=soup.get_text(strip=True)\n",
        "  tokens = [t for t in text.split()]\n",
        "  clean_token = []\n",
        "  count=0\n",
        "  for token in tokens:\n",
        "      if token.lower() not in sword:\n",
        "          clean_token.append(token.lower())\n",
        "  for key in clean_token:\n",
        "    if key in searchKeys:#check if key is present in the page\n",
        "      count=count+1\n",
        "  return count\n",
        "\n",
        "\n",
        "#key function used for sorting class searchIndex\n",
        "def get_me_key(obj):\n",
        "  return obj.indexValue\n",
        "\n"
      ],
      "execution_count": 2,
      "outputs": []
    },
    {
      "cell_type": "code",
      "metadata": {
        "id": "TPQokDmic-q_"
      },
      "source": [
        "#function for search strategy for web crawler in bfs or dfs\n",
        "def webcrawler_dfs_bfs(source_url,searchKeys,searchStrategy):\n",
        "  url_frontier_stack=list()#frontier stack /queue::dfs/bfs\n",
        "  url_frontier_stack.append(source_url)#push the source url\n",
        "  searchResults=list()#list to keep track of url and their index score\n",
        "  visited_urls=set()#set to track the visited nodes\n",
        "  t=0\n",
        "  similar=[]#to keep track of same urls in same page\n",
        "  if searchStrategy==1:#if dfs\n",
        "    while t<50:\n",
        "      node_url=url_frontier_stack.pop()#pop from top of stack\n",
        "      visited_urls.add(node_url)#add current url node as visited\n",
        "      soup=get_html(node_url)#get html contents\n",
        "      if soup=='error':\n",
        "        searchResults.append(searchIndex(node_url,-1000))#if bad response index the page with least score\n",
        "      else:\n",
        "        value=get_indexValue(node_url,searchKeys)\n",
        "        if value>10:#else add url and its index score if relevant page\n",
        "          searchResults.append(searchIndex(node_url,value)) \n",
        "          for link in soup.findAll('a', attrs={'href': re.compile(\"^https://\")}):#find all child urls and add to frontier if not visited\n",
        "            if link.get('href') not in similar:\n",
        "              if link.get('href') not in visited_urls:\n",
        "                similar.append(link.get('href'))\n",
        "                url_frontier_stack.append(link.get('href'))\n",
        "          t=t+1\n",
        "        else:\n",
        "          searchResults.append(searchIndex(node_url,0))\n",
        "  else:#else bfs\n",
        "    while t<50:\n",
        "      node_url=url_frontier_stack.pop(0)#pop from front\n",
        "      visited_urls.add(node_url)\n",
        "      soup=get_html(node_url)\n",
        "      if soup=='error':\n",
        "        searchResults.append(searchIndex(node_url,-1000))\n",
        "      else:\n",
        "        value=get_indexValue(node_url,searchKeys)\n",
        "        if value>10:\n",
        "          searchResults.append(searchIndex(node_url,value)) \n",
        "          for link in soup.findAll('a', attrs={'href': re.compile(\"^https://\")}):\n",
        "            if link.get('href') not in similar:\n",
        "              if link.get('href') not in visited_urls:\n",
        "                similar.append(link.get('href'))\n",
        "                url_frontier_stack.append(link.get('href'))\n",
        "          t=t+1\n",
        "        else:\n",
        "          searchResults.append(searchIndex(node_url,0))\n",
        "    \n",
        "\n",
        "  searchResults.sort(key=get_me_key,reverse=True)#get the final searchResult of crawling url::indexValue in best to worst order\n",
        "\n",
        "  print('Here are the best search results available:\\n')\n",
        "\n",
        "  count=0\n",
        "  for result in searchResults:#print top 20 results\n",
        "    if count==20:\n",
        "      break\n",
        "    print(result.url,' value:',result.indexValue)\n",
        "    count=count+1\n"
      ],
      "execution_count": 67,
      "outputs": []
    },
    {
      "cell_type": "code",
      "metadata": {
        "colab": {
          "base_uri": "https://localhost:8080/"
        },
        "id": "9Adhtm1tf8Xa",
        "outputId": "09a45395-a946-4770-df61-6cacde5aced8"
      },
      "source": [
        "#main program starts here\n",
        "searchKeys=set()\n",
        "source_url=input('Enter the source URL:')#get source url\n",
        "query=input(\"Enter the search...\")#get search key word\n",
        "#update searchKeys as per query and source url\n",
        "searchKeys.add(query)\n",
        "searchKeys.update(get_search_tokens(query))\n",
        "searchKeys.update(get_searches_tokens(source_url))\n",
        "#input your strategy\n",
        "strategy=input(\"Type BFS or DFS as per your strategy:\")\n",
        "if strategy=='BFS' or strategy=='bfs':\n",
        "  searchStrategy=0\n",
        "elif strategy=='DFS' or strategy=='dfs':\n",
        "  searchStrategy=1\n",
        "else:\n",
        "  print(\"Entering default mode\")\n",
        "  searchStrategy=0\n",
        "#webcrawler crawling...\n",
        "webcrawler_dfs_bfs(source_url,searchKeys,searchStrategy)"
      ],
      "execution_count": 69,
      "outputs": [
        {
          "output_type": "stream",
          "text": [
            "Enter the source URL:https://www.geeksforgeeks.org/breadth-first-search-or-bfs-for-a-graph/\n",
            "Enter the search...breadth first search\n",
            "Type BFS or DFS as per your strategy:bfs\n"
          ],
          "name": "stdout"
        },
        {
          "output_type": "stream",
          "text": [
            "Some characters could not be decoded, and were replaced with REPLACEMENT CHARACTER.\n"
          ],
          "name": "stderr"
        },
        {
          "output_type": "stream",
          "text": [
            "Here are the best search results available:\n",
            "\n",
            "https://www.geeksforgeeks.org/prims-minimum-spanning-tree-mst-greedy-algo-5/?ref=leftbar-rightbar  value: 120\n",
            "https://www.geeksforgeeks.org/breadth-first-search-or-bfs-for-a-graph/  value: 93\n",
            "https://www.geeksforgeeks.org/breadth-first-search-or-bfs-for-a-graph/?ref=lbp  value: 93\n",
            "https://www.geeksforgeeks.org/applications-of-breadth-first-traversal/?ref=rp  value: 93\n",
            "https://www.geeksforgeeks.org/applications-of-breadth-first-traversal/  value: 92\n",
            "https://www.geeksforgeeks.org/depth-first-search-or-dfs-for-a-graph/?ref=leftbar-rightbar  value: 89\n",
            "https://www.geeksforgeeks.org/depth-first-traversal-for-a-graph/  value: 89\n",
            "https://www.geeksforgeeks.org/depth-first-search-or-dfs-for-a-graph/?ref=rp  value: 89\n",
            "https://www.geeksforgeeks.org/dijkstras-shortest-path-algorithm-greedy-algo-7/?ref=leftbar-rightbar  value: 84\n",
            "https://www.geeksforgeeks.org/check-given-directed-graph-strongly-connected-set-2-kosaraju-using-bfs/?ref=rp  value: 77\n",
            "https://www.geeksforgeeks.org/graph-and-its-representations/?ref=leftbar-rightbar  value: 62\n",
            "https://www.geeksforgeeks.org/graph-data-structure-and-algorithms/  value: 59\n",
            "https://www.geeksforgeeks.org/detect-cycle-in-an-undirected-graph-using-bfs/?ref=rp  value: 58\n",
            "https://www.geeksforgeeks.org/union-find/?ref=leftbar-rightbar  value: 56\n",
            "https://www.geeksforgeeks.org/topological-sorting/?ref=leftbar-rightbar  value: 55\n",
            "https://www.geeksforgeeks.org/best-first-search-informed-search/?ref=rp  value: 55\n",
            "https://www.geeksforgeeks.org/detect-cycle-in-a-graph/?ref=leftbar-rightbar  value: 54\n",
            "https://www.geeksforgeeks.org/detect-cycle-in-a-directed-graph-using-bfs/?ref=rp  value: 52\n",
            "https://www.geeksforgeeks.org/iterative-deepening-searchids-iterative-deepening-depth-first-searchiddfs/?ref=rp  value: 51\n",
            "https://www.geeksforgeeks.org/applications-of-depth-first-search/  value: 49\n"
          ],
          "name": "stdout"
        }
      ]
    },
    {
      "cell_type": "code",
      "metadata": {
        "colab": {
          "base_uri": "https://localhost:8080/"
        },
        "id": "5zcgkkPgQuPu",
        "outputId": "ea46a20c-5ba2-4a76-fe8d-87c2065f1086"
      },
      "source": [
        "#main program starts here\n",
        "searchKeys=set()\n",
        "source_url=input('Enter the source URL:')\n",
        "query=input(\"Enter the search...\")\n",
        "searchKeys.add(query)\n",
        "searchKeys.update(get_search_tokens(query))\n",
        "searchKeys.update(get_searches_tokens(source_url))\n",
        "strategy=input(\"Type BFS or DFS as per your strategy:\")\n",
        "if strategy=='BFS' or strategy=='bfs':\n",
        "  searchStrategy=0\n",
        "elif strategy=='DFS' or strategy=='dfs':\n",
        "  searchStrategy=1\n",
        "else:\n",
        "  print(\"Entering default mode\")\n",
        "  searchStrategy=0\n",
        "webcrawler_dfs_bfs(source_url,searchKeys,searchStrategy)"
      ],
      "execution_count": 70,
      "outputs": [
        {
          "output_type": "stream",
          "text": [
            "Enter the source URL:https://www.geeksforgeeks.org/breadth-first-search-or-bfs-for-a-graph/\n",
            "Enter the search...breadth first search\n",
            "Type BFS or DFS as per your strategy:dfs\n",
            "Here are the best search results available:\n",
            "\n",
            "https://www.geeksforgeeks.org/breadth-first-search-or-bfs-for-a-graph/  value: 93\n",
            "https://www.geeksforgeeks.org/dijkstras-algorithm-for-adjacency-list-representation-greedy-algo-8/?ref=leftbar-rightbar  value: 66\n",
            "https://www.geeksforgeeks.org/ford-fulkerson-algorithm-for-maximum-flow-problem/?ref=leftbar-rightbar  value: 51\n",
            "https://www.geeksforgeeks.org/jump-search/?ref=leftbar-rightbar  value: 38\n",
            "https://www.geeksforgeeks.org/binary-search-bisect-in-python/?ref=leftbar-rightbar  value: 35\n",
            "https://www.geeksforgeeks.org/linear-search-vs-binary-search/  value: 35\n",
            "https://www.geeksforgeeks.org/difference-between-multi-level-queue-scheduling-mlq-and-first-come-first-served-fcfs/  value: 32\n",
            "https://www.geeksforgeeks.org/linear-search/?ref=leftbar-rightbar  value: 28\n",
            "https://www.geeksforgeeks.org/difference-between-multi-level-queue-scheduling-mlq-and-shortest-job-first/  value: 27\n",
            "https://www.geeksforgeeks.org/sort-first-k-values-in-ascending-order-and-remaining-n-k-values-in-descending-order/?ref=rp  value: 26\n",
            "https://www.geeksforgeeks.org/program-for-fcfs-cpu-scheduling-set-1/?ref=leftbar-rightbar  value: 26\n",
            "https://www.geeksforgeeks.org/program-for-fcfs-cpu-scheduling-set-1/  value: 26\n",
            "https://www.geeksforgeeks.org/difference-between-multi-level-queue-scheduling-mlq-and-shortest-job-first/?ref=rp  value: 26\n",
            "https://www.geeksforgeeks.org/searching-map-using-stdmap-functions-c/?ref=leftbar-rightbar  value: 24\n",
            "https://www.geeksforgeeks.org/cpu-scheduling-in-operating-systems/?ref=leftbar-rightbar  value: 24\n",
            "https://www.geeksforgeeks.org/program-for-shortest-job-first-or-sjf-cpu-scheduling-set-1-non-preemptive/  value: 24\n",
            "https://www.geeksforgeeks.org/sort-array-according-order-defined-another-array/?ref=leftbar-rightbar  value: 23\n",
            "https://www.geeksforgeeks.org/difference-between-prims-and-kruskals-algorithm-for-mst/?ref=leftbar-rightbar  value: 21\n",
            "https://www.geeksforgeeks.org/delete-operation-in-b-tree/?ref=leftbar-rightbar  value: 21\n",
            "https://www.geeksforgeeks.org/delete-operation-in-b-tree/  value: 21\n"
          ],
          "name": "stdout"
        }
      ]
    },
    {
      "cell_type": "code",
      "metadata": {
        "id": "rsM6bO7RSzqw"
      },
      "source": [
        "#function for search strategy for web crawler in iterative deepening search method\n",
        "def webcrawler_ids(node_url,searchKeys):\n",
        "  \n",
        "  #print(len(visited_urls))\n",
        "  for i in range(4):\n",
        "    visited_urls=set()\n",
        "    searchResults=list()\n",
        "    visited_urls,searchResults=webcrawler_dls(node_url,i,visited_urls,searchResults,searchKeys)#call crawler search for different depths\n",
        "    #print(i,len(visited_urls))\n",
        "\n",
        "  searchResults.sort(key=get_me_key,reverse=True)#sort the result as per best to worst order\n",
        "  #print(len(visited_urls))\n",
        "  print('Here are the best search results available:\\n')\n",
        "  count=0\n",
        "  for result in searchResults:\n",
        "    if count==20:\n",
        "      break\n",
        "    print(result.url,' value:',result.indexValue)\n",
        "    count=count+1\n",
        "  return True\n",
        "\n",
        "def webcrawler_dls(node_url,limit,visited_urls,searchResults,searchKeys):\n",
        "  visited_urls.add(node_url)#add current node url as visited\n",
        "  if limit==0:#if limit ended return\n",
        "    return visited_urls,searchResults\n",
        "  soup=get_html(node_url)\n",
        "  if soup=='error':#if bad response cut the branch\n",
        "    searchResults.append(searchIndex(node_url,-1000))\n",
        "  else:\n",
        "    value=get_indexValue(node_url,searchKeys)\n",
        "    if value>10:#if good keywords frequency push to frontier\n",
        "      searchResults.append(searchIndex(node_url,value))#and add their result\n",
        "      similar=[] \n",
        "      for link in soup.findAll('a', attrs={'href': re.compile(\"^https://\")}):#find all child url\n",
        "        if link.get('href') not in similar:\n",
        "          if link.get('href') not in visited_urls:#if not visited\n",
        "            #print(link.get('href'))\n",
        "            similar.append(link.get('href'))\n",
        "            visited_urls,searchResults=dls(link.get('href'),limit-1,visited_urls,searchResults,searchKeys)#then call search with this child as source url and one less depth limit\n",
        "    else:\n",
        "      searchResults.append(searchIndex(node_url,0))#if not useful search add index value as 0\n",
        "      return visited_urls,searchResults\n",
        "  return visited_urls,searchResults"
      ],
      "execution_count": 79,
      "outputs": []
    },
    {
      "cell_type": "code",
      "metadata": {
        "colab": {
          "base_uri": "https://localhost:8080/"
        },
        "id": "EGPwJTfsUFOA",
        "outputId": "1be1c01f-ee0c-4435-99b8-d9efffec8d91"
      },
      "source": [
        "#main program starts here\n",
        "searchKeys=set()\n",
        "source_url=input('Enter the source URL:')\n",
        "query=input(\"Enter the search...\")\n",
        "searchKeys.add(query)\n",
        "searchKeys.update(get_search_tokens(query))\n",
        "searchKeys.update(get_searches_tokens(source_url))\n",
        "webcrawler_ids(source_url,searchKeys)"
      ],
      "execution_count": 80,
      "outputs": [
        {
          "output_type": "stream",
          "text": [
            "Enter the source URL:https://www.geeksforgeeks.org/breadth-first-search-or-bfs-for-a-graph/\n",
            "Enter the search...breadth first search\n"
          ],
          "name": "stdout"
        },
        {
          "output_type": "stream",
          "text": [
            "Some characters could not be decoded, and were replaced with REPLACEMENT CHARACTER.\n"
          ],
          "name": "stderr"
        },
        {
          "output_type": "stream",
          "text": [
            "Here are the best search results available:\n",
            "\n",
            "https://www.geeksforgeeks.org/breadth-first-search-or-bfs-for-a-graph/  value: 93\n",
            "https://www.geeksforgeeks.org/breadth-first-search-or-bfs-for-a-graph/?ref=leftbar-rightbar  value: 93\n",
            "https://www.geeksforgeeks.org/breadth-first-traversal-for-a-graph/  value: 93\n",
            "https://www.geeksforgeeks.org/connectivity-in-a-directed-graph/?ref=rp  value: 93\n",
            "https://www.geeksforgeeks.org/depth-first-search-or-dfs-for-a-graph/?ref=leftbar-rightbar  value: 89\n",
            "https://www.geeksforgeeks.org/graph-and-its-representations/  value: 62\n",
            "https://www.geeksforgeeks.org/archives/11644  value: 49\n",
            "https://www.geeksforgeeks.org/applications-of-depth-first-search/?ref=rp  value: 49\n",
            "https://www.geeksforgeeks.org/print-the-lexicographically-smallest-dfs-of-the-graph-starting-from-1/?ref=rp  value: 33\n",
            "https://www.geeksforgeeks.org/archives/618  value: 23\n",
            "https://www.geeksforgeeks.org/position-of-rightmost-set-bit/?ref=lbp  value: 19\n",
            "https://www.geeksforgeeks.org/analysis-of-algorithms-set-1-asymptotic-analysis/  value: 18\n",
            "https://practice.geeksforgeeks.org/problems/depth-first-traversal-for-a-graph/1  value: 9\n",
            "https://www.geeksforgeeks.org/system-design-of-uber-app-uber-system-architecture/  value: 7\n",
            "https://www.geeksforgeeks.org/tag/morgan-stanley/  value: 6\n",
            "https://www.geeksforgeeks.org/medium/  value: 5\n",
            "https://www.geeksforgeeks.org/easy/  value: 5\n",
            "https://www.geeksforgeeks.org/vmware-interview-experience-on-campus-3/  value: 4\n",
            "https://www.geeksforgeeks.org/count-total-bits-number/  value: 4\n",
            "https://www.geeksforgeeks.org/n-queen-problem-backtracking-3/?ref=lbp  value: 4\n"
          ],
          "name": "stdout"
        },
        {
          "output_type": "execute_result",
          "data": {
            "text/plain": [
              "True"
            ]
          },
          "metadata": {
            "tags": []
          },
          "execution_count": 80
        }
      ]
    },
    {
      "cell_type": "code",
      "metadata": {
        "colab": {
          "base_uri": "https://localhost:8080/"
        },
        "id": "rkWKYma0gKfA",
        "outputId": "8876dc12-adff-452d-f6d0-a6fe6c795330"
      },
      "source": [
        "#testing purpose\n",
        "#main program starts here\n",
        "searchKeys=set()\n",
        "source_url=input('Enter the source URL:')\n",
        "query=input(\"Enter the search...\")\n",
        "searchKeys.add(query)\n",
        "searchKeys.update(get_search_tokens(query))\n",
        "searchKeys.update(get_searches_tokens(source_url))\n",
        "webcrawler_ids(source_url,searchKeys)"
      ],
      "execution_count": 41,
      "outputs": [
        {
          "output_type": "stream",
          "text": [
            "0 1\n",
            "1 200\n"
          ],
          "name": "stdout"
        },
        {
          "output_type": "stream",
          "text": [
            "Some characters could not be decoded, and were replaced with REPLACEMENT CHARACTER.\n"
          ],
          "name": "stderr"
        },
        {
          "output_type": "stream",
          "text": [
            "2 838\n",
            "3 1636\n"
          ],
          "name": "stdout"
        },
        {
          "output_type": "stream",
          "text": [
            "Some characters could not be decoded, and were replaced with REPLACEMENT CHARACTER.\n",
            "Some characters could not be decoded, and were replaced with REPLACEMENT CHARACTER.\n",
            "Some characters could not be decoded, and were replaced with REPLACEMENT CHARACTER.\n"
          ],
          "name": "stderr"
        },
        {
          "output_type": "stream",
          "text": [
            "4 7622\n",
            "7622\n",
            "Here are the best search results available:\n",
            "\n",
            "https://www.geeksforgeeks.org/applications-of-breadth-first-traversal/  value: 102\n",
            "https://www.geeksforgeeks.org/applications-of-breadth-first-traversal/?ref=lbp  value: 102\n",
            "https://www.geeksforgeeks.org/breadth-first-search-or-bfs-for-a-graph/  value: 87\n",
            "https://www.geeksforgeeks.org/breadth-first-traversal-for-a-graph  value: 87\n",
            "https://www.geeksforgeeks.org/level-order-tree-traversal/  value: 71\n",
            "https://www.geeksforgeeks.org/level-order-tree-traversal/?ref=lbp  value: 71\n",
            "https://www.geeksforgeeks.org/tree-traversals-inorder-preorder-and-postorder/?ref=lbp  value: 69\n",
            "https://www.geeksforgeeks.org/queue-using-stacks/?ref=leftbar-rightbar  value: 64\n",
            "https://www.geeksforgeeks.org/find-the-minimum-element-in-a-binary-search-tree/  value: 52\n",
            "https://www.geeksforgeeks.org/bipartite-graph/  value: 48\n",
            "https://www.geeksforgeeks.org/find-the-first-n-pure-numbers/?ref=rp  value: 45\n",
            "https://www.geeksforgeeks.org/level-order-traversal-line-line-set-3-using-one-queue/?ref=leftbar-rightbar  value: 40\n",
            "https://www.geeksforgeeks.org/implementing-water-supply-problem-using-breadth-first-search/?ref=rp  value: 39\n",
            "https://www.geeksforgeeks.org/bfs-using-vectors-queue-per-algorithm-clrs/?ref=rp  value: 32\n",
            "https://www.geeksforgeeks.org/detect-cycle-in-a-directed-graph-using-bfs/  value: 30\n",
            "https://www.geeksforgeeks.org/detect-cycle-in-a-directed-graph-using-bfs/?ref=rp  value: 30\n",
            "https://www.geeksforgeeks.org/ford-fulkerson-algorithm-for-maximum-flow-problem/  value: 29\n",
            "https://www.geeksforgeeks.org/top-10-interview-question-depth-first-search-dfs/?ref=leftbar-rightbar  value: 28\n",
            "https://www.geeksforgeeks.org/implement-stack-using-queue/?ref=leftbar-rightbar  value: 27\n",
            "https://www.geeksforgeeks.org/generic-tree-level-order-traversal/?ref=rp  value: 27\n"
          ],
          "name": "stdout"
        },
        {
          "output_type": "execute_result",
          "data": {
            "text/plain": [
              "True"
            ]
          },
          "metadata": {
            "tags": []
          },
          "execution_count": 41
        }
      ]
    },
    {
      "cell_type": "code",
      "metadata": {
        "id": "DxWIRwt4ngFf"
      },
      "source": [
        "\n",
        "#Depth First Search:(Expanded URL Limits=50)\n",
        "'''\n",
        "Here are the best search results available:\n",
        "\n",
        "https://en.wikipedia.org/wiki/Natural_language_processing  value: 148\n",
        "https://philpapers.org/go.pl?id=BRANS&proxyId=none&u=http%3A%2F%2Fplato.stanford.edu%2Fentries%2Fnatural-selection%2F  value: 107\n",
        "https://philpapers.org/go.pl?id=BRANS&proxyId=&u=http%3A%2F%2Fplato.stanford.edu%2Fentries%2Fnatural-selection%2F  value: 107\n",
        "https://philpapers.org/browse/natural-language-processing  value: 82\n",
        "https://plato.stanford.edu/archives/fall2019/entries/natural-selection/  value: 72\n",
        "https://philpapers.org/rec/PINNSA  value: 28\n",
        "https://philpapers.org/rec/CHRTNB  value: 24\n",
        "https://philpapers.org/rec/PICTAM  value: 21\n",
        "https://philpapers.org/asearch.pl?pub=139  value: 20\n",
        "https://philpapers.org/sep/natural-selection/  value: 18\n",
        "https://philpapers.org/go.pl?id=BARIPI-5&proxyId=&u=http%3A%2F%2Fdx.doi.org%2F10.1007%2Fs10539-020-9735-6  value: 16\n",
        "https://doi.org/10.1007/s10539-020-9735-6  value: 16\n",
        "https://philpapers.org/rec/SPIDAE  value: 15\n",
        "https://philpapers.org/go.pl?id=BARILP&proxyId=&u=http%3A%2F%2Fdx.doi.org%2F10.1017%2FS0140525X04220052  value: 14\n",
        "https://doi.org/10.1017/S0140525X04220052  value: 14\n",
        "https://philpapers.org/rec/BARILP  value: 13\n",
        "https://philpapers.org/rec/SHITNO  value: 13\n",
        "https://doi.org/10.1073%2Fpnas.1620732114  value: 13\n",
        "https://www.wikidata.org/wiki/Special:EntityPage/Q30642#sitelinks-wikipedia  value: 12\n",
        "https://www.wikidata.org/w/index.php?title=Q30642&oldid=1303758695  value: 12\n",
        "\n",
        "Enter the source URL:https://www.geeksforgeeks.org/breadth-first-search-or-bfs-for-a-graph/\n",
        "Enter the search...breadth first search\n",
        "Type BFS or DFS as per your strategy:dfs\n",
        "Here are the best search results available:\n",
        "\n",
        "https://www.geeksforgeeks.org/breadth-first-search-or-bfs-for-a-graph/  value: 93\n",
        "https://www.geeksforgeeks.org/dijkstras-algorithm-for-adjacency-list-representation-greedy-algo-8/?ref=leftbar-rightbar  value: 66\n",
        "https://www.geeksforgeeks.org/ford-fulkerson-algorithm-for-maximum-flow-problem/?ref=leftbar-rightbar  value: 51\n",
        "https://www.geeksforgeeks.org/jump-search/?ref=leftbar-rightbar  value: 38\n",
        "https://www.geeksforgeeks.org/binary-search-bisect-in-python/?ref=leftbar-rightbar  value: 35\n",
        "https://www.geeksforgeeks.org/linear-search-vs-binary-search/  value: 35\n",
        "https://www.geeksforgeeks.org/difference-between-multi-level-queue-scheduling-mlq-and-first-come-first-served-fcfs/  value: 32\n",
        "https://www.geeksforgeeks.org/linear-search/?ref=leftbar-rightbar  value: 28\n",
        "https://www.geeksforgeeks.org/difference-between-multi-level-queue-scheduling-mlq-and-shortest-job-first/  value: 27\n",
        "https://www.geeksforgeeks.org/sort-first-k-values-in-ascending-order-and-remaining-n-k-values-in-descending-order/?ref=rp  value: 26\n",
        "https://www.geeksforgeeks.org/program-for-fcfs-cpu-scheduling-set-1/?ref=leftbar-rightbar  value: 26\n",
        "https://www.geeksforgeeks.org/program-for-fcfs-cpu-scheduling-set-1/  value: 26\n",
        "https://www.geeksforgeeks.org/difference-between-multi-level-queue-scheduling-mlq-and-shortest-job-first/?ref=rp  value: 26\n",
        "https://www.geeksforgeeks.org/searching-map-using-stdmap-functions-c/?ref=leftbar-rightbar  value: 24\n",
        "https://www.geeksforgeeks.org/cpu-scheduling-in-operating-systems/?ref=leftbar-rightbar  value: 24\n",
        "https://www.geeksforgeeks.org/program-for-shortest-job-first-or-sjf-cpu-scheduling-set-1-non-preemptive/  value: 24\n",
        "https://www.geeksforgeeks.org/sort-array-according-order-defined-another-array/?ref=leftbar-rightbar  value: 23\n",
        "https://www.geeksforgeeks.org/difference-between-prims-and-kruskals-algorithm-for-mst/?ref=leftbar-rightbar  value: 21\n",
        "https://www.geeksforgeeks.org/delete-operation-in-b-tree/?ref=leftbar-rightbar  value: 21\n",
        "https://www.geeksforgeeks.org/delete-operation-in-b-tree/  value: 21\n",
        "\n",
        "'''\n",
        "\n",
        "\n",
        "#Breadth First Search:(Expanded URL Limits=50)\n",
        "'''\n",
        "Enter the source URL:https://www.geeksforgeeks.org/breadth-first-search-or-bfs-for-a-graph/\n",
        "Enter the search...breadth first search\n",
        "Type BFS or DFS as per your strategy:bfs\n",
        "Some characters could not be decoded, and were replaced with REPLACEMENT CHARACTER.\n",
        "Here are the best search results available:\n",
        "\n",
        "https://www.geeksforgeeks.org/prims-minimum-spanning-tree-mst-greedy-algo-5/?ref=leftbar-rightbar  value: 120\n",
        "https://www.geeksforgeeks.org/breadth-first-search-or-bfs-for-a-graph/  value: 93\n",
        "https://www.geeksforgeeks.org/breadth-first-search-or-bfs-for-a-graph/?ref=lbp  value: 93\n",
        "https://www.geeksforgeeks.org/applications-of-breadth-first-traversal/?ref=rp  value: 93\n",
        "https://www.geeksforgeeks.org/applications-of-breadth-first-traversal/  value: 92\n",
        "https://www.geeksforgeeks.org/depth-first-search-or-dfs-for-a-graph/?ref=leftbar-rightbar  value: 89\n",
        "https://www.geeksforgeeks.org/depth-first-traversal-for-a-graph/  value: 89\n",
        "https://www.geeksforgeeks.org/depth-first-search-or-dfs-for-a-graph/?ref=rp  value: 89\n",
        "https://www.geeksforgeeks.org/dijkstras-shortest-path-algorithm-greedy-algo-7/?ref=leftbar-rightbar  value: 84\n",
        "https://www.geeksforgeeks.org/check-given-directed-graph-strongly-connected-set-2-kosaraju-using-bfs/?ref=rp  value: 77\n",
        "https://www.geeksforgeeks.org/graph-and-its-representations/?ref=leftbar-rightbar  value: 62\n",
        "https://www.geeksforgeeks.org/graph-data-structure-and-algorithms/  value: 59\n",
        "https://www.geeksforgeeks.org/detect-cycle-in-an-undirected-graph-using-bfs/?ref=rp  value: 58\n",
        "https://www.geeksforgeeks.org/union-find/?ref=leftbar-rightbar  value: 56\n",
        "https://www.geeksforgeeks.org/topological-sorting/?ref=leftbar-rightbar  value: 55\n",
        "https://www.geeksforgeeks.org/best-first-search-informed-search/?ref=rp  value: 55\n",
        "https://www.geeksforgeeks.org/detect-cycle-in-a-graph/?ref=leftbar-rightbar  value: 54\n",
        "https://www.geeksforgeeks.org/detect-cycle-in-a-directed-graph-using-bfs/?ref=rp  value: 52\n",
        "https://www.geeksforgeeks.org/iterative-deepening-searchids-iterative-deepening-depth-first-searchiddfs/?ref=rp  value: 51\n",
        "https://www.geeksforgeeks.org/applications-of-depth-first-search/  value: 49\n",
        "\n",
        "'''\n",
        "\n",
        "#Iterative deepening search/Depth Limited Search: Depth-Limit=3\n",
        "'''\n",
        "Enter the source URL:https://www.geeksforgeeks.org/breadth-first-search-or-bfs-for-a-graph/\n",
        "Enter the search...breadth first search\n",
        "Some characters could not be decoded, and were replaced with REPLACEMENT CHARACTER.\n",
        "Here are the best search results available:\n",
        "\n",
        "https://www.geeksforgeeks.org/breadth-first-search-or-bfs-for-a-graph/  value: 93\n",
        "https://www.geeksforgeeks.org/breadth-first-search-or-bfs-for-a-graph/?ref=leftbar-rightbar  value: 93\n",
        "https://www.geeksforgeeks.org/breadth-first-traversal-for-a-graph/  value: 93\n",
        "https://www.geeksforgeeks.org/connectivity-in-a-directed-graph/?ref=rp  value: 93\n",
        "https://www.geeksforgeeks.org/depth-first-search-or-dfs-for-a-graph/?ref=leftbar-rightbar  value: 89\n",
        "https://www.geeksforgeeks.org/graph-and-its-representations/  value: 62\n",
        "https://www.geeksforgeeks.org/archives/11644  value: 49\n",
        "https://www.geeksforgeeks.org/applications-of-depth-first-search/?ref=rp  value: 49\n",
        "https://www.geeksforgeeks.org/print-the-lexicographically-smallest-dfs-of-the-graph-starting-from-1/?ref=rp  value: 33\n",
        "https://www.geeksforgeeks.org/archives/618  value: 23\n",
        "https://www.geeksforgeeks.org/position-of-rightmost-set-bit/?ref=lbp  value: 19\n",
        "https://www.geeksforgeeks.org/analysis-of-algorithms-set-1-asymptotic-analysis/  value: 18\n",
        "https://practice.geeksforgeeks.org/problems/depth-first-traversal-for-a-graph/1  value: 9\n",
        "https://www.geeksforgeeks.org/system-design-of-uber-app-uber-system-architecture/  value: 7\n",
        "https://www.geeksforgeeks.org/tag/morgan-stanley/  value: 6\n",
        "https://www.geeksforgeeks.org/medium/  value: 5\n",
        "https://www.geeksforgeeks.org/easy/  value: 5\n",
        "https://www.geeksforgeeks.org/vmware-interview-experience-on-campus-3/  value: 4\n",
        "https://www.geeksforgeeks.org/count-total-bits-number/  value: 4\n",
        "https://www.geeksforgeeks.org/n-queen-problem-backtracking-3/?ref=lbp  value: 4\n",
        "True\n",
        "'''"
      ],
      "execution_count": null,
      "outputs": []
    }
  ]
}