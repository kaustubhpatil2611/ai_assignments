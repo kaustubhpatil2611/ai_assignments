{
  "nbformat": 4,
  "nbformat_minor": 0,
  "metadata": {
    "colab": {
      "name": "MorphologicalAnalysis.ipynb",
      "provenance": [],
      "collapsed_sections": []
    },
    "kernelspec": {
      "name": "python3",
      "display_name": "Python 3"
    }
  },
  "cells": [
    {
      "cell_type": "markdown",
      "metadata": {
        "id": "6n7JEea23ZLg"
      },
      "source": [
        "# **Morphological Analysis**"
      ]
    },
    {
      "cell_type": "markdown",
      "metadata": {
        "id": "ZRqYzygZ5Zwo"
      },
      "source": [
        "**Tokenization**\n"
      ]
    },
    {
      "cell_type": "code",
      "metadata": {
        "id": "JiYmFafG5Zwp",
        "outputId": "e1c943df-1cca-4b9e-87eb-30bd389cdee2",
        "colab": {
          "base_uri": "https://localhost:8080/"
        }
      },
      "source": [
        "import nltk\n",
        "nltk.download('punkt')\n",
        "from nltk.tokenize import word_tokenize"
      ],
      "execution_count": 6,
      "outputs": [
        {
          "output_type": "stream",
          "text": [
            "[nltk_data] Downloading package punkt to /root/nltk_data...\n",
            "[nltk_data]   Unzipping tokenizers/punkt.zip.\n"
          ],
          "name": "stdout"
        }
      ]
    },
    {
      "cell_type": "code",
      "metadata": {
        "id": "57p8-XX95-YA",
        "outputId": "65118846-dc31-4698-f553-877373de594b",
        "colab": {
          "base_uri": "https://localhost:8080/"
        }
      },
      "source": [
        "sentence=\"All the children played, sang songs, danced and then went home.\"\n",
        "words=word_tokenize(sentence)\n",
        "words"
      ],
      "execution_count": 19,
      "outputs": [
        {
          "output_type": "execute_result",
          "data": {
            "text/plain": [
              "['All',\n",
              " 'the',\n",
              " 'children',\n",
              " 'played',\n",
              " ',',\n",
              " 'sang',\n",
              " 'songs',\n",
              " ',',\n",
              " 'danced',\n",
              " 'and',\n",
              " 'then',\n",
              " 'went',\n",
              " 'home',\n",
              " '.']"
            ]
          },
          "metadata": {
            "tags": []
          },
          "execution_count": 19
        }
      ]
    },
    {
      "cell_type": "markdown",
      "metadata": {
        "id": "gEw_hB0K4Kl1"
      },
      "source": [
        "**Stemming**"
      ]
    },
    {
      "cell_type": "code",
      "metadata": {
        "id": "C5cfSG-R3oFL"
      },
      "source": [
        "s1 = 'go', 'going', 'goes', 'gone' \n",
        "s2 = 'stemmer', 'stemming', 'stemmed', 'stem' \n",
        "s3 = 'eating', 'eats', 'ate', 'eat','eaten'\n"
      ],
      "execution_count": 1,
      "outputs": []
    },
    {
      "cell_type": "code",
      "metadata": {
        "id": "C5YnghB-4Xxu"
      },
      "source": [
        "import nltk\n",
        "from nltk.stem.porter import PorterStemmer\n",
        "from nltk.stem.lancaster import LancasterStemmer\n",
        "from nltk.stem import SnowballStemmer \n"
      ],
      "execution_count": 2,
      "outputs": []
    },
    {
      "cell_type": "code",
      "metadata": {
        "id": "AaPvRskp4t9E",
        "outputId": "b175d434-7ad8-488d-fdc6-0a32bd994dad",
        "colab": {
          "base_uri": "https://localhost:8080/"
        }
      },
      "source": [
        "ps=PorterStemmer()\n",
        "for word in s1:\n",
        "    print(ps.stem(word))\n"
      ],
      "execution_count": 3,
      "outputs": [
        {
          "output_type": "stream",
          "text": [
            "go\n",
            "go\n",
            "goe\n",
            "gone\n"
          ],
          "name": "stdout"
        }
      ]
    },
    {
      "cell_type": "code",
      "metadata": {
        "id": "BqnllvOB40u8",
        "outputId": "0f6374ba-9d7c-4dc0-f393-d2dfe1fc4f2d",
        "colab": {
          "base_uri": "https://localhost:8080/"
        }
      },
      "source": [
        "ls=LancasterStemmer()\n",
        "for word in s2:\n",
        "    print(ls.stem(word))\n"
      ],
      "execution_count": 4,
      "outputs": [
        {
          "output_type": "stream",
          "text": [
            "stem\n",
            "stem\n",
            "stem\n",
            "stem\n"
          ],
          "name": "stdout"
        }
      ]
    },
    {
      "cell_type": "code",
      "metadata": {
        "id": "CUADl23O431t",
        "outputId": "cd2d84f8-615d-4667-deef-5e1deb64273c",
        "colab": {
          "base_uri": "https://localhost:8080/"
        }
      },
      "source": [
        "ss=SnowballStemmer('english')\n",
        "for word in s3:\n",
        "    print(ss.stem(word))\n"
      ],
      "execution_count": 5,
      "outputs": [
        {
          "output_type": "stream",
          "text": [
            "eat\n",
            "eat\n",
            "ate\n",
            "eat\n",
            "eaten\n"
          ],
          "name": "stdout"
        }
      ]
    },
    {
      "cell_type": "code",
      "metadata": {
        "id": "J38j8U4p45xm",
        "outputId": "5534e3be-8981-44c8-e988-fff7e3fde2a7",
        "colab": {
          "base_uri": "https://localhost:8080/"
        }
      },
      "source": [
        "for word in words:\n",
        "  print(ps.stem(word))"
      ],
      "execution_count": 20,
      "outputs": [
        {
          "output_type": "stream",
          "text": [
            "all\n",
            "the\n",
            "children\n",
            "play\n",
            ",\n",
            "sang\n",
            "song\n",
            ",\n",
            "danc\n",
            "and\n",
            "then\n",
            "went\n",
            "home\n",
            ".\n"
          ],
          "name": "stdout"
        }
      ]
    },
    {
      "cell_type": "markdown",
      "metadata": {
        "id": "eCZpbHp85D5_"
      },
      "source": [
        "**Lemmatization**"
      ]
    },
    {
      "cell_type": "code",
      "metadata": {
        "id": "111CdRuW5G2t",
        "outputId": "7ba8b728-65aa-496b-93c8-c8253a62f704",
        "colab": {
          "base_uri": "https://localhost:8080/"
        }
      },
      "source": [
        "import nltk\n",
        "nltk.download('wordnet')\n"
      ],
      "execution_count": 14,
      "outputs": [
        {
          "output_type": "stream",
          "text": [
            "[nltk_data] Downloading package wordnet to /root/nltk_data...\n",
            "[nltk_data]   Unzipping corpora/wordnet.zip.\n"
          ],
          "name": "stdout"
        },
        {
          "output_type": "execute_result",
          "data": {
            "text/plain": [
              "True"
            ]
          },
          "metadata": {
            "tags": []
          },
          "execution_count": 14
        }
      ]
    },
    {
      "cell_type": "code",
      "metadata": {
        "id": "BQPNss798D1f"
      },
      "source": [
        "from nltk.stem import WordNetLemmatizer\n",
        "word = 'largest'\n",
        "lt = WordNetLemmatizer()\n"
      ],
      "execution_count": 15,
      "outputs": []
    },
    {
      "cell_type": "code",
      "metadata": {
        "id": "7tTV_SBd8FxB",
        "outputId": "784fb0b0-edb5-4515-ca82-175c1de12f9e",
        "colab": {
          "base_uri": "https://localhost:8080/"
        }
      },
      "source": [
        "print(lt.lemmatize(word, pos='v'))\n",
        "print(lt.lemmatize(word, pos='n'))\n",
        "print(lt.lemmatize(word, pos='a'))\n",
        "print(lt.lemmatize(word, pos='r'))"
      ],
      "execution_count": 16,
      "outputs": [
        {
          "output_type": "stream",
          "text": [
            "largest\n",
            "largest\n",
            "large\n",
            "largest\n"
          ],
          "name": "stdout"
        }
      ]
    },
    {
      "cell_type": "code",
      "metadata": {
        "id": "yRj-EAp08Kd-",
        "outputId": "9c32828d-6004-49ac-be3b-412bdfbcf20f",
        "colab": {
          "base_uri": "https://localhost:8080/"
        }
      },
      "source": [
        "for word in sentence.split():\n",
        "    print(lt.lemmatize(word, pos='v'))\n"
      ],
      "execution_count": 26,
      "outputs": [
        {
          "output_type": "stream",
          "text": [
            "All\n",
            "the\n",
            "children\n",
            "played,\n",
            "sing\n",
            "songs,\n",
            "dance\n",
            "and\n",
            "then\n",
            "go\n",
            "home.\n"
          ],
          "name": "stdout"
        }
      ]
    },
    {
      "cell_type": "markdown",
      "metadata": {
        "id": "7YJt13_P89_m"
      },
      "source": [
        "**Frequency count by web scrapping**"
      ]
    },
    {
      "cell_type": "code",
      "metadata": {
        "id": "-TsDXJCo8OSx",
        "outputId": "9d83a61d-318d-4b38-edf7-1ddc4557b436",
        "colab": {
          "base_uri": "https://localhost:8080/"
        }
      },
      "source": [
        "from nltk.corpus import stopwords\n",
        "nltk.download('stopwords')\n",
        "import urllib\n",
        "import nltk\n",
        "from bs4 import BeautifulSoup\n",
        "response = urllib.request.urlopen('https://en.wikipedia.org/wiki/Natural_language_processing')"
      ],
      "execution_count": 27,
      "outputs": [
        {
          "output_type": "stream",
          "text": [
            "[nltk_data] Downloading package stopwords to /root/nltk_data...\n",
            "[nltk_data]   Unzipping corpora/stopwords.zip.\n"
          ],
          "name": "stdout"
        }
      ]
    },
    {
      "cell_type": "code",
      "metadata": {
        "id": "EyFzs2vv9qk0"
      },
      "source": [
        "html = response.read()\n",
        "soup = BeautifulSoup(html,\"html.parser\")\n",
        "text = soup.get_text(strip=True)\n",
        "tokens = [t for t in text.split()]"
      ],
      "execution_count": 28,
      "outputs": []
    },
    {
      "cell_type": "markdown",
      "metadata": {
        "id": "pfvauoGw9742"
      },
      "source": [
        "Before removing stopwords frequency plot"
      ]
    },
    {
      "cell_type": "code",
      "metadata": {
        "id": "88xFUI_y94an",
        "outputId": "299206fb-c77c-45ac-ff69-96c08151ed5d",
        "colab": {
          "base_uri": "https://localhost:8080/",
          "height": 316
        }
      },
      "source": [
        "freq = nltk.FreqDist(tokens)\n",
        "freq.plot(20, cumulative=False)"
      ],
      "execution_count": 29,
      "outputs": [
        {
          "output_type": "display_data",
          "data": {
            "image/png": "[encoded data removed]",
            "text/plain": [
              "<Figure size 432x288 with 1 Axes>"
            ]
          },
          "metadata": {
            "tags": [],
            "needs_background": "light"
          }
        }
      ]
    },
    {
      "cell_type": "code",
      "metadata": {
        "id": "nfO5gpzj96U7"
      },
      "source": [
        "sword = stopwords.words('english')\n",
        "clean_tokens = []\n",
        "for token in tokens:\n",
        "    if token.lower() not in sword:\n",
        "        clean_tokens.append(token.lower())"
      ],
      "execution_count": 30,
      "outputs": []
    },
    {
      "cell_type": "markdown",
      "metadata": {
        "id": "Thj2gWYq-OBy"
      },
      "source": [
        "After filtering stopwords frequency plot"
      ]
    },
    {
      "cell_type": "code",
      "metadata": {
        "id": "ebJuRy7C-MX8",
        "outputId": "518baf1a-2c95-4f53-dfc8-3092c4404932",
        "colab": {
          "base_uri": "https://localhost:8080/",
          "height": 323
        }
      },
      "source": [
        "freq = nltk.FreqDist(clean_tokens)\n",
        "freq.plot(20, cumulative=False)"
      ],
      "execution_count": 31,
      "outputs": [
        {
          "output_type": "display_data",
          "data": {
            "image/png": "[encoded data removed]",
            "text/plain": [
              "<Figure size 432x288 with 1 Axes>"
            ]
          },
          "metadata": {
            "tags": [],
            "needs_background": "light"
          }
        }
      ]
    },
    {
      "cell_type": "code",
      "metadata": {
        "id": "1hPpsKBO-UAd"
      },
      "source": [
        ""
      ],
      "execution_count": null,
      "outputs": []
    }
  ]
}